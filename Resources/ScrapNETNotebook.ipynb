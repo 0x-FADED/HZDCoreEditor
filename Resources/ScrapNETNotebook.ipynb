{
 "cells": [
  {
   "cell_type": "code",
   "execution_count": null,
   "metadata": {
    "dotnet_interactive": {
     "language": "csharp"
    }
   },
   "outputs": [],
   "source": [
    "#r \"nuget:NewtonSoft.Json,13.0.1\"\n",
    "#r \"E:\\Projects\\Horizon Zero Dawn\\hzd_test\\HZDCoreEditor\\bin\\Release\\netstandard2.1\\win-x64\\HZDCoreEditor.dll\"\n",
    "\n",
    "using System;\n",
    "using System.IO;\n",
    "using HZDCoreEditor;\n",
    "using Newtonsoft.Json;\n",
    "\n",
    "// Absolute path to Horizon Zero Dawn bin files\n",
    "//static readonly string HZDBinPath = @\"C:\\Program Files (x86)\\Steam\\steamapps\\common\\Horizon Zero Dawn\\Packed_DX12\";\n",
    "\n",
    "// Absolute path to Death Stranding bin files\n",
    "//static readonly string DSBinPath = @\"C:\\Program Files (x86)\\Steam\\steamapps\\common\\Death Stranding\\data\";\n",
    "\n",
    "// Absolute path to a HZDCoreTools.exe build\n",
    "static readonly string CoreToolsExecutablePath = Path.Combine(Environment.CurrentDirectory, @\"..\\HZDCoreTools\\bin\\Release\\net6.0-windows\\HZDCoreTools.exe\");"
   ]
  },
  {
   "cell_type": "markdown",
   "metadata": {},
   "source": [
    "### Extract all HZD core files (excluding streams)"
   ]
  },
  {
   "cell_type": "code",
   "execution_count": null,
   "metadata": {
    "dotnet_interactive": {
     "language": "pwsh"
    }
   },
   "outputs": [],
   "source": [
    "#!share --from csharp CoreToolsExecutablePath\n",
    "\n",
    "$commandArgs = @(\n",
    "    'unpack',\n",
    "    '-i', 'C:\\Program Files (x86)\\Steam\\steamapps\\common\\Horizon Zero Dawn\\Packed_DX12\\*.bin',\n",
    "    '-o', 'C:\\Program Files (x86)\\Steam\\steamapps\\common\\Horizon Zero Dawn\\Packed_DX12\\extracted\\',\n",
    "    '-r', '\\.stream'\n",
    ")\n",
    "\n",
    "& $CoreToolsExecutablePath $commandArgs"
   ]
  },
  {
   "cell_type": "markdown",
   "metadata": {},
   "source": [
    "### Rebuild index files for both games"
   ]
  },
  {
   "cell_type": "markdown",
   "metadata": {},
   "source": [
    "Extract all strings contained in the archives"
   ]
  },
  {
   "cell_type": "code",
   "execution_count": null,
   "metadata": {
    "dotnet_interactive": {
     "language": "pwsh"
    }
   },
   "outputs": [],
   "source": [
    "#!share --from csharp CoreToolsExecutablePath\n",
    "\n",
    "# Extract HZD strings\n",
    "$commandArgs = @(\n",
    "    '--horizonzerodawn',\n",
    "    'exportstrings',\n",
    "    '-i', 'C:\\Program Files (x86)\\Steam\\steamapps\\common\\Horizon Zero Dawn\\Packed_DX12\\*.bin',\n",
    "    '-o', 'dumped_hzd_paths.txt',\n",
    "    '--validpathsonly'\n",
    ")\n",
    "\n",
    "Write-Host \"Run Horizon Zero Dawn\"\n",
    "(& $CoreToolsExecutablePath $commandArgs) | Select-String -Pattern \"^((?!Mounting).)*$\"\n",
    "\n",
    "# Extract DS strings\n",
    "$commandArgs = @(\n",
    "    '--deathstranding',\n",
    "    'exportstrings',\n",
    "    '-i', 'C:\\Program Files (x86)\\Steam\\steamapps\\common\\Death Stranding\\data\\*.bin',\n",
    "    '-o', 'dumped_ds_paths.txt',\n",
    "    '--validpathsonly'\n",
    ")\n",
    "\n",
    "Write-Host \"Run Death Stranding\"\n",
    "(& $CoreToolsExecutablePath $commandArgs) | Select-String -Pattern \"^((?!Mounting).)*$\""
   ]
  },
  {
   "cell_type": "markdown",
   "metadata": {},
   "source": [
    "Combine all string lists (missing files are ignored, duplicates are ignored)"
   ]
  },
  {
   "cell_type": "code",
   "execution_count": null,
   "metadata": {
    "dotnet_interactive": {
     "language": "pwsh"
    }
   },
   "outputs": [],
   "source": [
    "Get-Content All_HZD_Valid_Core_Paths.txt, All_DS_Valid_Core_Paths.txt, dumped_hzd_paths.txt, dumped_ds_paths.txt | Set-Content amalgamation.txt"
   ]
  },
  {
   "cell_type": "markdown",
   "metadata": {},
   "source": [
    "Create the new index files"
   ]
  },
  {
   "cell_type": "code",
   "execution_count": null,
   "metadata": {
    "dotnet_interactive": {
     "language": "pwsh"
    }
   },
   "outputs": [],
   "source": [
    "#!share --from csharp CoreToolsExecutablePath\n",
    "\n",
    "# Rebuild HZD index files\n",
    "$commandArgs = @(\n",
    "    '--horizonzerodawn',\n",
    "    'rebuildindexfiles',\n",
    "    '-i', 'C:\\Program Files (x86)\\Steam\\steamapps\\common\\Horizon Zero Dawn\\Packed_DX12\\*.bin',\n",
    "    '-o', 'C:\\Program Files (x86)\\Steam\\steamapps\\common\\Horizon Zero Dawn\\Packed_DX12\\*.idx',\n",
    "    '-l', 'amalgamation.txt'\n",
    ")\n",
    "\n",
    "Write-Host \"Run Horizon Zero Dawn\"\n",
    "(& $CoreToolsExecutablePath $commandArgs) | Select-String -Pattern \"^((?!Processing).)*$\"\n",
    "\n",
    "# Rebuild DS index files\n",
    "$commandArgs = @(\n",
    "    '--deathstranding',\n",
    "    'rebuildindexfiles',\n",
    "    '-i', 'C:\\Program Files (x86)\\Steam\\steamapps\\common\\Death Stranding\\data\\*.bin',\n",
    "    '-o', 'C:\\Program Files (x86)\\Steam\\steamapps\\common\\Death Stranding\\data\\*.idx',\n",
    "    '-l', 'amalgamation.txt',\n",
    "    '--skipmissing'\n",
    ")\n",
    "\n",
    "Write-Host \"Run Death Stranding\"\n",
    "(& $CoreToolsExecutablePath $commandArgs) | Select-String -Pattern \"^((?!Processing).)*$\""
   ]
  },
  {
   "cell_type": "markdown",
   "metadata": {},
   "source": [
    "### Convert a core file to json with the command line"
   ]
  },
  {
   "cell_type": "markdown",
   "metadata": {},
   "source": [
    "Core to json"
   ]
  },
  {
   "cell_type": "code",
   "execution_count": null,
   "metadata": {
    "dotnet_interactive": {
     "language": "pwsh"
    }
   },
   "outputs": [],
   "source": [
    "#!share --from csharp CoreToolsExecutablePath\n",
    "\n",
    "$tempFolder = Join-Path $pwd.Path 'local_json_temp_folder'\n",
    "New-Item $tempFolder -ItemType Directory -Force | Out-Null\n",
    "\n",
    "$commandArgs = @(\n",
    "    '--horizonzerodawn',\n",
    "    'coretojson',\n",
    "    '-i', 'C:\\Program Files (x86)\\Steam\\steamapps\\common\\Horizon Zero Dawn\\Packed_DX12\\extracted\\default_assets\\photomode\\*.core',\n",
    "    '-o', $tempFolder\n",
    ")\n",
    "\n",
    "& $CoreToolsExecutablePath $commandArgs"
   ]
  },
  {
   "cell_type": "markdown",
   "metadata": {},
   "source": [
    "Json to core"
   ]
  },
  {
   "cell_type": "code",
   "execution_count": null,
   "metadata": {
    "dotnet_interactive": {
     "language": "pwsh"
    }
   },
   "outputs": [],
   "source": [
    "#!share --from csharp CoreToolsExecutablePath\n",
    "\n",
    "$tempFolder = Join-Path $pwd.Path 'local_json_temp_folder'\n",
    "\n",
    "$commandArgs = @(\n",
    "    '--horizonzerodawn',\n",
    "    'jsontocore',\n",
    "    '-i', ($tempFolder + '\\*.json'),\n",
    "    '-o', $tempFolder\n",
    ")\n",
    "\n",
    "& $CoreToolsExecutablePath $commandArgs"
   ]
  },
  {
   "cell_type": "markdown",
   "metadata": {},
   "source": [
    "### Convert a core file to json in C#"
   ]
  },
  {
   "cell_type": "code",
   "execution_count": null,
   "metadata": {
    "dotnet_interactive": {
     "language": "csharp"
    }
   },
   "outputs": [],
   "source": [
    "var core = Decima.CoreBinary.FromFile(@\"C:\\Program Files (x86)\\Steam\\steamapps\\common\\Horizon Zero Dawn\\Packed_DX12\\extracted\\default_assets\\photomode\\photomode.core\");\n",
    "var json = JsonConvert.SerializeObject(core, new JsonSerializerSettings()\n",
    "{\n",
    "    Formatting = Formatting.Indented,\n",
    "    TypeNameHandling = TypeNameHandling.Objects,/* TypeNameHandling.None */\n",
    "    ReferenceLoopHandling = ReferenceLoopHandling.Ignore,\n",
    "});\n",
    "\n",
    "json"
   ]
  },
  {
   "cell_type": "markdown",
   "metadata": {},
   "source": [
    "### List all possible languages in Horizon Zero Dawn and Death Stranding"
   ]
  },
  {
   "cell_type": "code",
   "execution_count": null,
   "metadata": {
    "dotnet_interactive": {
     "language": "csharp"
    }
   },
   "outputs": [],
   "source": [
    "var possibleLanguages = Enum.GetNames(typeof(Decima.DS.ELanguage))\n",
    "                .Concat(Enum.GetNames(typeof(Decima.HZD.ELanguage)))\n",
    "                .Select(x => x.ToLower())\n",
    "                .Distinct()\n",
    "                .ToArray();\n",
    "\n",
    "Console.WriteLine(\"All possible languages: \");\n",
    "\n",
    "foreach (string lang in possibleLanguages)\n",
    "    Console.Write($\"{lang} \");\n",
    "\n",
    "Console.WriteLine();"
   ]
  },
  {
   "cell_type": "markdown",
   "metadata": {},
   "source": [
    "### Map GraphNodeProgram entry point names to their addresses in the DS executable"
   ]
  },
  {
   "cell_type": "markdown",
   "metadata": {},
   "source": [
    "Export names"
   ]
  },
  {
   "cell_type": "code",
   "execution_count": null,
   "metadata": {
    "dotnet_interactive": {
     "language": "pwsh"
    }
   },
   "outputs": [],
   "source": [
    "#!share --from csharp CoreToolsExecutablePath\n",
    "\n",
    "$commandArgs = @(\n",
    "    '--deathstranding',\n",
    "    'exportentrypointnames',\n",
    "    '-i', 'C:\\Program Files (x86)\\Steam\\steamapps\\common\\Death Stranding\\data\\*.bin',\n",
    "    '-o', 'dumped_ds_entrypoints.csv'\n",
    ")\n",
    "\n",
    "(& $CoreToolsExecutablePath $commandArgs) | Select-String -Pattern \"^((?!Mounting).)*$\""
   ]
  },
  {
   "cell_type": "markdown",
   "metadata": {},
   "source": [
    "Generate IDC naming script"
   ]
  },
  {
   "cell_type": "code",
   "execution_count": null,
   "metadata": {
    "dotnet_interactive": {
     "language": "csharp"
    }
   },
   "outputs": [],
   "source": [
    "var inputEntrypointNames = File.ReadAllLines(\"dumped_ds_entrypoints.csv\");\n",
    "var inputAddresses = File.ReadAllLines(@\"C:\\ds_rtti_export\\entrypoint_crc_listing.csv\");\n",
    "\n",
    "var crcToNames = new Dictionary<ulong, string>();\n",
    "var mappedLines = new List<string>();\n",
    "\n",
    "// CSV -> dictionary\n",
    "foreach (string[] tokens in inputEntrypointNames.Select(x => x.Split(',')))\n",
    "{\n",
    "    crcToNames.TryAdd(ulong.Parse(tokens[0].Substring(2), System.Globalization.NumberStyles.HexNumber), tokens[1]);\n",
    "}\n",
    "\n",
    "// Combine the address with the { crc, name } map\n",
    "mappedLines.Add(\"#include <idc.idc>\\n\\nstatic main()\\n{\");\n",
    "foreach (string[] tokens in inputAddresses.Select(x => x.Split(',')))\n",
    "{\n",
    "    var addr = ulong.Parse(tokens[0].Substring(2), System.Globalization.NumberStyles.HexNumber);\n",
    "    var crc = ulong.Parse(tokens[1].Substring(2), System.Globalization.NumberStyles.HexNumber);\n",
    "\n",
    "    if (crcToNames.TryGetValue(crc, out string name))\n",
    "        mappedLines.Add($\"set_name(0x{addr:X}, \\\"{name}\\\", SN_FORCE|SN_DELTAIL|SN_NOWARN);// 0x{crc:X}\");\n",
    "    else\n",
    "        mappedLines.Add($\"set_name(0x{addr:X}, \\\"EntryPoint_UNKNOWN_CRC_0x{crc:X}\\\", SN_FORCE|SN_DELTAIL|SN_NOWARN);// 0x{crc:X}\");\n",
    "}\n",
    "mappedLines.Add(\"}\");\n",
    "\n",
    "File.WriteAllLines(\"ida_dumped_ds_entrypoints.idc\", mappedLines);"
   ]
  },
  {
   "cell_type": "markdown",
   "metadata": {},
   "source": [
    "### Find all instances of UpgradableStackableComponentResource in HZD"
   ]
  },
  {
   "cell_type": "code",
   "execution_count": null,
   "metadata": {
    "dotnet_interactive": {
     "language": "csharp"
    }
   },
   "outputs": [],
   "source": [
    "var cores = Directory.EnumerateFiles(@\"C:\\Program Files (x86)\\Steam\\steamapps\\common\\Horizon Zero Dawn\\Packed_DX12\\extracted\", \"*.core\", SearchOption.AllDirectories);\n",
    "\n",
    "cores.AsParallel().ForAll(file =>\n",
    "{\n",
    "    var coreBinary = Decima.CoreBinary.FromFile(file);\n",
    "    var targetObjects = coreBinary.Objects.OfType<Decima.HZD.UpgradableStackableComponentResource>();\n",
    "\n",
    "    if (targetObjects.Any())\n",
    "        Console.WriteLine(file);\n",
    "});"
   ]
  },
  {
   "cell_type": "markdown",
   "metadata": {},
   "source": [
    "### Find robot-only SpawnSetups in HZD"
   ]
  },
  {
   "cell_type": "code",
   "execution_count": null,
   "metadata": {
    "dotnet_interactive": {
     "language": "csharp"
    }
   },
   "outputs": [],
   "source": [
    "var rootPath = @\"C:\\Program Files (x86)\\Steam\\steamapps\\common\\Horizon Zero Dawn\\Packed_DX12\\extracted\";\n",
    "var cores = Directory.EnumerateFiles(rootPath, \"*.core\", SearchOption.AllDirectories).Where(x => x.Contains(@\"spawnsetups\\robots\"));\n",
    "var list = new System.Collections.Concurrent.ConcurrentBag<string>();\n",
    "\n",
    "cores.AsParallel().ForAll(file =>\n",
    "{\n",
    "    var coreBinary = Decima.CoreBinary.FromFile(file);\n",
    "    var targetObjects = coreBinary.Objects.OfType<Decima.HZD.SpawnSetupBase>();\n",
    "\n",
    "    foreach (var obj in targetObjects)\n",
    "    {\n",
    "        string fixedPath = file.Substring(rootPath.Length + 1);\n",
    "        fixedPath = fixedPath.Replace(\"\\\\\", \"/\");\n",
    "        fixedPath = fixedPath.Replace(\".core\", \"\");\n",
    "\n",
    "        list.Add(string.Format(\"[ \\\"{0}\\\", \\\"{1}\\\" ],\", fixedPath, obj.ObjectUUID));\n",
    "    }\n",
    "});\n",
    "\n",
    "File.WriteAllLines(\"robot_only_spawnsetuplist.txt\", list.OrderBy(x => x));"
   ]
  },
  {
   "cell_type": "markdown",
   "metadata": {},
   "source": [
    "### Export collectable locations in HZD"
   ]
  },
  {
   "cell_type": "code",
   "execution_count": null,
   "metadata": {
    "dotnet_interactive": {
     "language": "csharp"
    }
   },
   "outputs": [],
   "source": [
    "var vantageCore = Decima.CoreBinary.FromFile(@\"C:\\Program Files (x86)\\Steam\\steamapps\\common\\Horizon Zero Dawn\\Packed_DX12\\extracted\\levels\\worlds\\world\\features\\collectables\\collectable_vantage_layer.core\");\n",
    "var grazerCore = Decima.CoreBinary.FromFile(@\"C:\\Program Files (x86)\\Steam\\steamapps\\common\\Horizon Zero Dawn\\Packed_DX12\\extracted\\levels\\worlds\\world\\features\\collectables\\collectable_grazerdummy_layer.core\");\n",
    "\n",
    "var instances = vantageCore.Objects\n",
    "    .Concat(grazerCore.Objects)\n",
    "    .OfType<Decima.HZD.SceneInstance>()\n",
    "    .OrderBy(x => x.Name.Value);\n",
    "\n",
    "foreach (var instance in instances)\n",
    "{\n",
    "    var positionStr = $\"{instance.Orientation.Position.X:F}, {instance.Orientation.Position.Y:F}, {instance.Orientation.Position.Z:F}\";\n",
    "\n",
    "    Console.WriteLine($\"{{ \\\"{instance.Name}\\\", {{ {positionStr} }} }}, \");\n",
    "}"
   ]
  },
  {
   "cell_type": "markdown",
   "metadata": {},
   "source": [
    "### Find UUID references in HZD"
   ]
  },
  {
   "cell_type": "code",
   "execution_count": null,
   "metadata": {
    "dotnet_interactive": {
     "language": "csharp"
    }
   },
   "outputs": [],
   "source": [
    "var cores = Directory.EnumerateFiles(@\"C:\\Program Files (x86)\\Steam\\steamapps\\common\\Horizon Zero Dawn\\Packed_DX12\\extracted\", \"*.core\", SearchOption.AllDirectories);\n",
    "var testUUID = Decima.BaseGGUUID.FromString(\"{2032E24A-450A-B44C-A0D8-02D93ABCF8E8}\");\n",
    "\n",
    "cores.AsParallel().ForAll(file =>\n",
    "{\n",
    "    var coreBinary = Decima.CoreBinary.FromFile(file);\n",
    "\n",
    "    coreBinary.VisitAllObjects((Decima.BaseGGUUID uuid, object o) =>\n",
    "    {\n",
    "        if (uuid.Equals(testUUID))\n",
    "            Console.WriteLine($\"Found a core that references this UUID: {file}\");\n",
    "    });\n",
    "});"
   ]
  }
 ],
 "metadata": {
  "kernelspec": {
   "display_name": ".NET (C#)",
   "language": "C#",
   "name": ".net-csharp"
  },
  "language_info": {
   "name": "C#"
  }
 },
 "nbformat": 4,
 "nbformat_minor": 2
}
