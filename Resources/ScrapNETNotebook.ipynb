{
 "cells": [
  {
   "cell_type": "code",
   "execution_count": null,
   "metadata": {
    "dotnet_interactive": {
     "language": "csharp"
    }
   },
   "outputs": [],
   "source": [
    "#r \"nuget:NewtonSoft.Json,12.0.3\"\n",
    "#r \"E:\\Projects\\Horizon Zero Dawn\\hzd_test\\HZDCoreEditor\\bin\\Release\\netstandard2.1\\win-x64\\HZDCoreEditor.dll\"\n",
    "\n",
    "using System;\n",
    "using System.IO;\n",
    "using HZDCoreEditor;\n",
    "using Newtonsoft.Json;\n",
    "\n",
    "// Absolute path to Horizon Zero Dawn bin files\n",
    "//static readonly string HZDRootPath = @\"C:\\Program Files (x86)\\Steam\\steamapps\\common\\Horizon Zero Dawn\\Packed_DX12\";\n",
    "\n",
    "// Absolute path to Death Stranding bin files\n",
    "//static readonly string DSRootPath = @\"C:\\Program Files (x86)\\Steam\\steamapps\\common\\Death Stranding\\data\";\n",
    "\n",
    "// Absolute path to a HZDCoreTools.exe build\n",
    "static readonly string CoreToolsExecutablePath = Path.Combine(Environment.CurrentDirectory, @\"..\\HZDCoreTools\\bin\\Release\\net6.0-windows\\HZDCoreTools.exe\");"
   ]
  },
  {
   "cell_type": "markdown",
   "metadata": {},
   "source": [
    "### Extract all HZD core files (excluding streams)"
   ]
  },
  {
   "cell_type": "code",
   "execution_count": null,
   "metadata": {
    "dotnet_interactive": {
     "language": "csharp"
    }
   },
   "outputs": [],
   "source": [
    "#!powershell\n",
    "#!share --from csharp CoreToolsExecutablePath\n",
    "\n",
    "$commandArgs = @(\n",
    "    'unpack',\n",
    "    '-i', 'C:\\Program Files (x86)\\Steam\\steamapps\\common\\Horizon Zero Dawn\\Packed_DX12\\*.bin',\n",
    "    '-o', 'C:\\Program Files (x86)\\Steam\\steamapps\\common\\Horizon Zero Dawn\\Packed_DX12\\extracted\\',\n",
    "    'r', '\\.stream'\n",
    ")\n",
    "\n",
    "& $CoreToolsExecutablePath $commandArgs"
   ]
  },
  {
   "cell_type": "markdown",
   "metadata": {},
   "source": [
    "### Rebuild index files for both games"
   ]
  },
  {
   "cell_type": "markdown",
   "metadata": {},
   "source": [
    "Extract all strings contained in the archives"
   ]
  },
  {
   "cell_type": "code",
   "execution_count": null,
   "metadata": {
    "dotnet_interactive": {
     "language": "csharp"
    }
   },
   "outputs": [],
   "source": [
    "#!powershell\n",
    "#!share --from csharp CoreToolsExecutablePath\n",
    "\n",
    "# Extract HZD strings\n",
    "$commandArgs = @(\n",
    "    '--horizonzerodawn',\n",
    "    'exportstrings',\n",
    "    '-i', 'C:\\Program Files (x86)\\Steam\\steamapps\\common\\Horizon Zero Dawn\\Packed_DX12\\*.bin',\n",
    "    '-o', 'dumped_hzd_paths.txt',\n",
    "    '--validpathsonly'\n",
    ")\n",
    "\n",
    "Write-Host \"Run Horizon Zero Dawn\"\n",
    "(& $CoreToolsExecutablePath $commandArgs) | Select-String -Pattern \"^((?!Mounting).)*$\"\n",
    "\n",
    "# Extract DS strings\n",
    "$commandArgs = @(\n",
    "    '--deathstranding',\n",
    "    'exportstrings',\n",
    "    '-i', 'C:\\Program Files (x86)\\Steam\\steamapps\\common\\Death Stranding\\data\\*.bin',\n",
    "    '-o', 'dumped_ds_paths.txt',\n",
    "    '--validpathsonly'\n",
    ")\n",
    "\n",
    "Write-Host \"Run Death Stranding\"\n",
    "(& $CoreToolsExecutablePath $commandArgs) | Select-String -Pattern \"^((?!Mounting).)*$\""
   ]
  },
  {
   "cell_type": "markdown",
   "metadata": {},
   "source": [
    "Combine all string lists (missing files are ignored, duplicates are ignored)"
   ]
  },
  {
   "cell_type": "code",
   "execution_count": null,
   "metadata": {
    "dotnet_interactive": {
     "language": "csharp"
    }
   },
   "outputs": [],
   "source": [
    "#!powershell\n",
    "\n",
    "Get-Content All_HZD_Valid_Core_Paths.txt, All_DS_Valid_Core_Paths.txt, dumped_hzd_paths.txt, dumped_ds_paths.txt | Set-Content amalgamation.txt"
   ]
  },
  {
   "cell_type": "markdown",
   "metadata": {},
   "source": [
    "Create the new index files"
   ]
  },
  {
   "cell_type": "code",
   "execution_count": null,
   "metadata": {
    "dotnet_interactive": {
     "language": "csharp"
    }
   },
   "outputs": [],
   "source": [
    "#!powershell\n",
    "#!share --from csharp CoreToolsExecutablePath\n",
    "\n",
    "# Rebuild HZD index files\n",
    "$commandArgs = @(\n",
    "    '--horizonzerodawn',\n",
    "    'rebuildindexfiles',\n",
    "    '-i', 'C:\\Program Files (x86)\\Steam\\steamapps\\common\\Horizon Zero Dawn\\Packed_DX12\\*.bin',\n",
    "    '-o', 'C:\\Program Files (x86)\\Steam\\steamapps\\common\\Horizon Zero Dawn\\Packed_DX12\\*.idx',\n",
    "    '-l', 'amalgamation.txt'\n",
    ")\n",
    "\n",
    "Write-Host \"Run Horizon Zero Dawn\"\n",
    "(& $CoreToolsExecutablePath $commandArgs) | Select-String -Pattern \"^((?!Processing).)*$\"\n",
    "\n",
    "# Rebuild DS index files\n",
    "$commandArgs = @(\n",
    "    '--deathstranding',\n",
    "    'rebuildindexfiles',\n",
    "    '-i', 'C:\\Program Files (x86)\\Steam\\steamapps\\common\\Death Stranding\\data\\*.bin',\n",
    "    '-o', 'C:\\Program Files (x86)\\Steam\\steamapps\\common\\Death Stranding\\data\\*.idx',\n",
    "    '-l', 'amalgamation.txt',\n",
    "    '--skipmissing'\n",
    ")\n",
    "\n",
    "Write-Host \"Run Death Stranding\"\n",
    "(& $CoreToolsExecutablePath $commandArgs) | Select-String -Pattern \"^((?!Processing).)*$\""
   ]
  },
  {
   "cell_type": "markdown",
   "metadata": {},
   "source": [
    "### Convert a core file to json in C#"
   ]
  },
  {
   "cell_type": "code",
   "execution_count": null,
   "metadata": {
    "dotnet_interactive": {
     "language": "csharp"
    }
   },
   "outputs": [],
   "source": [
    "var core = Decima.CoreBinary.FromFile(@\"C:\\Program Files (x86)\\Steam\\steamapps\\common\\Horizon Zero Dawn\\Packed_DX12\\extracted\\default_assets\\photomode\\photomode.core\");\n",
    "var json = JsonConvert.SerializeObject(core, new JsonSerializerSettings()\n",
    "{\n",
    "    Formatting = Formatting.Indented,\n",
    "    TypeNameHandling = TypeNameHandling.Objects,/* TypeNameHandling.None */\n",
    "    ReferenceLoopHandling = ReferenceLoopHandling.Ignore,\n",
    "});\n",
    "\n",
    "Console.Write(json);"
   ]
  },
  {
   "cell_type": "markdown",
   "metadata": {},
   "source": [
    "### List all possible languages in Horizon Zero Dawn and Death Stranding"
   ]
  },
  {
   "cell_type": "code",
   "execution_count": null,
   "metadata": {
    "dotnet_interactive": {
     "language": "csharp"
    }
   },
   "outputs": [],
   "source": [
    "var possibleLanguages = Enum.GetNames(typeof(Decima.DS.ELanguage))\n",
    "                .Concat(Enum.GetNames(typeof(Decima.HZD.ELanguage)))\n",
    "                .Select(x => x.ToLower())\n",
    "                .Distinct()\n",
    "                .ToArray();\n",
    "\n",
    "Console.WriteLine(\"All possible languages: \");\n",
    "\n",
    "foreach (string lang in possibleLanguages)\n",
    "    Console.Write($\"{lang} \");\n",
    "\n",
    "Console.WriteLine();"
   ]
  },
  {
   "cell_type": "markdown",
   "metadata": {},
   "source": [
    "### Map GraphNodeProgram entry point names to their addresses in the DS executable"
   ]
  },
  {
   "cell_type": "markdown",
   "metadata": {},
   "source": [
    "Export names"
   ]
  },
  {
   "cell_type": "code",
   "execution_count": null,
   "metadata": {
    "dotnet_interactive": {
     "language": "csharp"
    }
   },
   "outputs": [],
   "source": [
    "#!powershell\n",
    "#!share --from csharp CoreToolsExecutablePath\n",
    "\n",
    "$commandArgs = @(\n",
    "    '--deathstranding',\n",
    "    'exportentrypointnames',\n",
    "    '-i', 'C:\\Program Files (x86)\\Steam\\steamapps\\common\\Death Stranding\\data\\*.bin',\n",
    "    '-o', 'dumped_ds_entrypoints.csv'\n",
    ")\n",
    "\n",
    "(& $CoreToolsExecutablePath $commandArgs) | Select-String -Pattern \"^((?!Mounting).)*$\""
   ]
  },
  {
   "cell_type": "markdown",
   "metadata": {},
   "source": [
    "Generate IDC script"
   ]
  },
  {
   "cell_type": "code",
   "execution_count": null,
   "metadata": {
    "dotnet_interactive": {
     "language": "csharp"
    }
   },
   "outputs": [],
   "source": [
    "var inputEntrypointNames = File.ReadAllLines(\"dumped_ds_entrypoints.csv\");\n",
    "var inputAddresses = File.ReadAllLines(@\"C:\\ds_rtti_export\\entrypoint_crc_listing.csv\");\n",
    "\n",
    "var crcToNames = new Dictionary<ulong, string>();\n",
    "var mappedLines = new List<string>();\n",
    "\n",
    "// CSV -> dictionary\n",
    "foreach (string[] tokens in inputEntrypointNames.Select(x => x.Split(',')))\n",
    "{\n",
    "    crcToNames.TryAdd(ulong.Parse(tokens[0].Substring(2), System.Globalization.NumberStyles.HexNumber), tokens[1]);\n",
    "}\n",
    "\n",
    "// Combine the address with the { crc, name } map\n",
    "mappedLines.Add(\"#include <idc.idc>\\n\\nstatic main()\\n{\");\n",
    "foreach (string[] tokens in inputAddresses.Select(x => x.Split(',')))\n",
    "{\n",
    "    var addr = ulong.Parse(tokens[0].Substring(2), System.Globalization.NumberStyles.HexNumber);\n",
    "    var crc = ulong.Parse(tokens[1].Substring(2), System.Globalization.NumberStyles.HexNumber);\n",
    "\n",
    "    if (crcToNames.TryGetValue(crc, out string name))\n",
    "        mappedLines.Add($\"set_name(0x{addr:X}, \\\"{name}\\\", SN_FORCE|SN_DELTAIL|SN_NOWARN);// 0x{crc:X}\");\n",
    "    else\n",
    "        mappedLines.Add($\"set_name(0x{addr:X}, \\\"EntryPoint_UNKNOWN_CRC_0x{crc:X}\\\", SN_FORCE|SN_DELTAIL|SN_NOWARN);// 0x{crc:X}\");\n",
    "}\n",
    "mappedLines.Add(\"}\");\n",
    "\n",
    "File.WriteAllLines(\"ida_dumped_ds_entrypoints.idc\", mappedLines);"
   ]
  }
 ],
 "metadata": {
  "kernelspec": {
   "display_name": ".NET (C#)",
   "language": "C#",
   "name": ".net-csharp"
  },
  "language_info": {
   "name": "C#"
  }
 },
 "nbformat": 4,
 "nbformat_minor": 2
}
